{
 "cells": [
  {
   "cell_type": "code",
   "execution_count": 2,
   "id": "94cc2c05-8ec2-47d2-8ffd-c4aba80b2eeb",
   "metadata": {},
   "outputs": [
    {
     "name": "stdout",
     "output_type": "stream",
     "text": [
      "1. Add Todo \n",
      "2. Remove Todo \n",
      "3. Get All Todos \n",
      "4. Exit\n"
     ]
    },
    {
     "name": "stdin",
     "output_type": "stream",
     "text": [
      "Enter your Choice :  1\n",
      "Enter the task to add : Add\n"
     ]
    },
    {
     "name": "stdout",
     "output_type": "stream",
     "text": [
      "1. Add Todo \n",
      "2. Remove Todo \n",
      "3. Get All Todos \n",
      "4. Exit\n"
     ]
    },
    {
     "name": "stdin",
     "output_type": "stream",
     "text": [
      "Enter your Choice :  2\n",
      "Enter the Task to remove :  Add\n"
     ]
    },
    {
     "name": "stdout",
     "output_type": "stream",
     "text": [
      "1. Add Todo \n",
      "2. Remove Todo \n",
      "3. Get All Todos \n",
      "4. Exit\n"
     ]
    },
    {
     "name": "stdin",
     "output_type": "stream",
     "text": [
      "Enter your Choice :  1\n",
      "Enter the task to add : first\n"
     ]
    },
    {
     "name": "stdout",
     "output_type": "stream",
     "text": [
      "1. Add Todo \n",
      "2. Remove Todo \n",
      "3. Get All Todos \n",
      "4. Exit\n"
     ]
    },
    {
     "name": "stdin",
     "output_type": "stream",
     "text": [
      "Enter your Choice :  1\n",
      "Enter the task to add : second\n"
     ]
    },
    {
     "name": "stdout",
     "output_type": "stream",
     "text": [
      "1. Add Todo \n",
      "2. Remove Todo \n",
      "3. Get All Todos \n",
      "4. Exit\n"
     ]
    },
    {
     "name": "stdin",
     "output_type": "stream",
     "text": [
      "Enter your Choice :  3\n"
     ]
    },
    {
     "name": "stdout",
     "output_type": "stream",
     "text": [
      "Todo List :\n",
      "first\n",
      "second\n",
      "1. Add Todo \n",
      "2. Remove Todo \n",
      "3. Get All Todos \n",
      "4. Exit\n"
     ]
    },
    {
     "name": "stdin",
     "output_type": "stream",
     "text": [
      "Enter your Choice :  4\n"
     ]
    }
   ],
   "source": [
    "def addTodo(myTodo):\n",
    "    task = input(\"Enter the task to add :\")\n",
    "    myTodo.append(task)\n",
    "\n",
    "\n",
    "def remTodo(myTodo):\n",
    "    task = input(\"Enter the Task to remove : \")\n",
    "    myTodo.remove(task)\n",
    "\n",
    "def getTodo(myTodo):\n",
    "    print(\"Todo List :\")\n",
    "    for task in myTodo:\n",
    "        print(task)    \n",
    "\n",
    "\n",
    "myTodo = []\n",
    "\n",
    "while(True):\n",
    "    print(\"1. Add Todo \\n2. Remove Todo \\n3. Get All Todos \\n4. Exit\")\n",
    "    choice = int(input(\"Enter your Choice : \"))\n",
    "\n",
    "    if choice == 1:\n",
    "        addTodo(myTodo)\n",
    "    elif choice == 2:\n",
    "        remTodo(myTodo)\n",
    "    elif choice == 3:\n",
    "        getTodo(myTodo)\n",
    "    elif choice == 4:\n",
    "        break\n",
    "    else :\n",
    "        print(\"choose Correct Operation\")    \n",
    "\n",
    "\n",
    "    # switch (choice)\n",
    "    #     case 1 :\n",
    "    #         addTodo()\n",
    "    #     case 2 :\n",
    "    #         remTodo()\n",
    "    #     case 3 :\n",
    "    #         getTodo()\n",
    "    #     case 4 : \n",
    "    #         break\n",
    "           "
   ]
  },
  {
   "cell_type": "code",
   "execution_count": null,
   "id": "0ca09887-3592-4ff7-8b0d-a5c6a3f24dc3",
   "metadata": {},
   "outputs": [],
   "source": []
  }
 ],
 "metadata": {
  "kernelspec": {
   "display_name": "Python 3 (ipykernel)",
   "language": "python",
   "name": "python3"
  },
  "language_info": {
   "codemirror_mode": {
    "name": "ipython",
    "version": 3
   },
   "file_extension": ".py",
   "mimetype": "text/x-python",
   "name": "python",
   "nbconvert_exporter": "python",
   "pygments_lexer": "ipython3",
   "version": "3.13.2"
  }
 },
 "nbformat": 4,
 "nbformat_minor": 5
}
