{
 "cells": [
  {
   "cell_type": "code",
   "execution_count": 1,
   "id": "f00eef0b-64dc-4e2e-8795-c296f0de0f33",
   "metadata": {},
   "outputs": [
    {
     "name": "stdout",
     "output_type": "stream",
     "text": [
      "Hello\n"
     ]
    }
   ],
   "source": [
    "print(\"Hello\")"
   ]
  },
  {
   "cell_type": "code",
   "execution_count": 3,
   "id": "7ef7c774-29f2-4d33-b94e-8bec1e640379",
   "metadata": {},
   "outputs": [
    {
     "data": {
      "text/plain": [
       "int"
      ]
     },
     "execution_count": 3,
     "metadata": {},
     "output_type": "execute_result"
    }
   ],
   "source": [
    "#variables\n",
    "num1=10\n",
    "type(num1)\n"
   ]
  },
  {
   "cell_type": "code",
   "execution_count": 4,
   "id": "792b1756-f28b-4562-bccc-7fc993a66c14",
   "metadata": {},
   "outputs": [
    {
     "name": "stdout",
     "output_type": "stream",
     "text": [
      "value: 10\n",
      "value 2 20.9\n",
      "value 3: Mind sprint\n"
     ]
    }
   ],
   "source": [
    "num1=10\n",
    "num2=20.9\n",
    "name=\"Mind sprint\"\n",
    "print(\"value:\",num1)\n",
    "print(f\"value 2 {num2}\")\n",
    "print(\"value 3:\",name)"
   ]
  },
  {
   "cell_type": "code",
   "execution_count": 7,
   "id": "07075c1d-6f4d-4441-bf59-c1ddfd9a3bc4",
   "metadata": {},
   "outputs": [
    {
     "name": "stdout",
     "output_type": "stream",
     "text": [
      "red\n",
      "red blue green\n",
      "redbluegreen\n"
     ]
    }
   ],
   "source": [
    "x,y,z=\"red\",\"blue\",\"green\"\n",
    "print(x)\n",
    "type(x)\n",
    "print(x,y,z)\n",
    "print(x+y+z)"
   ]
  },
  {
   "cell_type": "code",
   "execution_count": 8,
   "id": "0fa480eb-fbc9-4bb6-b8ee-af85f12cf32c",
   "metadata": {},
   "outputs": [
    {
     "name": "stdout",
     "output_type": "stream",
     "text": [
      "orange\n"
     ]
    }
   ],
   "source": [
    "x=y=z=\"orange\"\n",
    "print(z)"
   ]
  },
  {
   "cell_type": "code",
   "execution_count": 10,
   "id": "e4361aa6-c869-4b24-94e4-e22840d8e7bd",
   "metadata": {},
   "outputs": [
    {
     "name": "stdout",
     "output_type": "stream",
     "text": [
      "banana\n"
     ]
    }
   ],
   "source": [
    "fruits=[\"apple\",\"banana\",\"cherry\"]\n",
    "x,y,z=fruits\n",
    "print(y)"
   ]
  },
  {
   "cell_type": "code",
   "execution_count": 11,
   "id": "79c1071d-d2ab-48fb-8a5a-636bfdf9f4e1",
   "metadata": {},
   "outputs": [
    {
     "name": "stdout",
     "output_type": "stream",
     "text": [
      "<class 'str'>\n"
     ]
    }
   ],
   "source": [
    "print(type(x))"
   ]
  },
  {
   "cell_type": "code",
   "execution_count": 1,
   "id": "2d744be4-d0bc-4fbf-aa45-38f4be95ef78",
   "metadata": {},
   "outputs": [
    {
     "name": "stdin",
     "output_type": "stream",
     "text": [
      "Enter first number 10\n",
      "Enter sec number 8\n"
     ]
    },
    {
     "name": "stdout",
     "output_type": "stream",
     "text": [
      "18\n",
      "2\n",
      "80\n",
      "1.25\n",
      "2\n",
      "100000000\n"
     ]
    }
   ],
   "source": [
    "num1=int(input(\"Enter first number\"))\n",
    "num2= int(input(\"Enter sec number\"))\n",
    "print(num1+num2)\n",
    "print(num1-num2)\n",
    "print(num1*num2)\n",
    "print(num1/num2)\n",
    "print(num1%num2)\n",
    "print(num1**num2)\n",
    "# print(int(num1)+int(num2))\n",
    "# print(int(num1)-int(num2))\n",
    "# print(int(num1)+int(num2))\n",
    "# print(int(num1)+int(num2))\n",
    "# print(int(num1)+int(num2))"
   ]
  },
  {
   "cell_type": "code",
   "execution_count": 2,
   "id": "6f0fb945-ceb5-410c-8823-cac3df545e3a",
   "metadata": {},
   "outputs": [
    {
     "name": "stdin",
     "output_type": "stream",
     "text": [
      "Enter first number 10\n",
      "Enter sec number 5\n"
     ]
    },
    {
     "name": "stdout",
     "output_type": "stream",
     "text": [
      "Is num1 equal to num2? False\n",
      "Is num1 not equal to num2? True\n",
      "Is num1 greater than num2? True\n",
      "Is num1 less than num2? False\n",
      "Is num1 greater than or equal to num2? True\n",
      "Is num1 less than or equal to num2? False\n"
     ]
    }
   ],
   "source": [
    "num1=int(input(\"Enter first number\"))\n",
    "num2= int(input(\"Enter sec number\"))\n",
    "print(\"Is num1 equal to num2?\",num1==num2)\n",
    "print(\"Is num1 not equal to num2?\",num1!=num2)\n",
    "print(\"Is num1 greater than num2?\",num1>num2)\n",
    "print(\"Is num1 less than num2?\",num1<num2)\n",
    "print(\"Is num1 greater than or equal to num2?\",num1>=num2)\n",
    "print(\"Is num1 less than or equal to num2?\",num1<=num2)"
   ]
  },
  {
   "cell_type": "code",
   "execution_count": 16,
   "id": "231f35e9-a0a6-4e0a-affb-56f2ae9020f4",
   "metadata": {},
   "outputs": [
    {
     "name": "stdout",
     "output_type": "stream",
     "text": [
      "initial value: 10\n",
      "After increment 15\n",
      "After decrement: 12\n",
      "After multiplication: 96\n"
     ]
    }
   ],
   "source": [
    "num=10\n",
    "print(\"initial value:\",num)\n",
    "num+=5\n",
    "print(\"After increment\",num)\n",
    "num-=3\n",
    "print(\"After decrement:\",num)\n",
    "num*=8\n",
    "print(\"After multiplication:\",num)"
   ]
  },
  {
   "cell_type": "code",
   "execution_count": 17,
   "id": "4f349203-c4f0-44f0-b5ad-d6be12961b14",
   "metadata": {},
   "outputs": [
    {
     "name": "stdin",
     "output_type": "stream",
     "text": [
      "enter your email admin@gmail.com\n",
      "enter your password admin@123\n"
     ]
    },
    {
     "name": "stdout",
     "output_type": "stream",
     "text": [
      "True\n"
     ]
    }
   ],
   "source": [
    "email=input('enter your email')\n",
    "password=input('enter your password')\n",
    "print(email=='admin@gmail.com' and password=='admin@123')\n"
   ]
  },
  {
   "cell_type": "code",
   "execution_count": 18,
   "id": "2548611c-1c2d-4081-b107-ab5f91d16395",
   "metadata": {},
   "outputs": [
    {
     "name": "stdin",
     "output_type": "stream",
     "text": [
      "Enter number 90\n"
     ]
    },
    {
     "name": "stdout",
     "output_type": "stream",
     "text": [
      "Positive number\n"
     ]
    }
   ],
   "source": [
    "num1=int(input(\"Enter number\"))\n",
    "if num>0:\n",
    "    print(\"Positive number\")\n",
    "elif num==0:\n",
    "    print(\"Zero\")\n",
    "else:\n",
    "    print(\"Negative number\")"
   ]
  },
  {
   "cell_type": "code",
   "execution_count": 19,
   "id": "99596393-c834-4cc7-8e04-37219c24aeca",
   "metadata": {},
   "outputs": [
    {
     "name": "stdout",
     "output_type": "stream",
     "text": [
      "Positive and odd\n"
     ]
    }
   ],
   "source": [
    "num=15\n",
    "if num>0:\n",
    "    if num%2==0:\n",
    "        print(\"Positive and even\")\n",
    "    else:\n",
    "        print(\"Positive and odd\")\n",
    "else:\n",
    "    print(\"Negative num\")"
   ]
  },
  {
   "cell_type": "code",
   "execution_count": 3,
   "id": "679f5600-9d61-48b7-a4ce-d0f3df8ebcfa",
   "metadata": {},
   "outputs": [
    {
     "name": "stdout",
     "output_type": "stream",
     "text": [
      "1 2 3 4 5 6 7 8 9 10 \n",
      "Number : 1\n",
      "Number : 2\n",
      "Number : 3\n",
      "Number : 4\n",
      "Number : 5\n",
      "Number : 6\n",
      "Number : 7\n",
      "Number : 8\n",
      "Number : 9\n",
      "Number : 10"
     ]
    }
   ],
   "source": [
    "# Loop\n",
    "num = 1\n",
    "while num <= 10:\n",
    "    print(num , end = \" \")\n",
    "    num +=1\n",
    "\n",
    "for i in range(1,11):\n",
    "    print(\"\\nNumber :\", i, end = \"\")"
   ]
  },
  {
   "cell_type": "code",
   "execution_count": 4,
   "id": "fcda4ae9-fc14-4c8c-9425-87ba3c62e0dd",
   "metadata": {},
   "outputs": [
    {
     "name": "stdout",
     "output_type": "stream",
     "text": [
      "Number is : 1\n",
      "Number is : 2\n",
      "Number is : 3\n",
      "Number is : 4\n",
      "We reached the limit\n",
      "Number : 0\n",
      "Number : 1\n",
      "Number : 2\n",
      "Break\n"
     ]
    }
   ],
   "source": [
    "\n",
    "# Using Break Statement\n",
    "\n",
    "for i in range (1,10):\n",
    "    if i == 5:\n",
    "        print(\"We reached the limit\")\n",
    "        break\n",
    "    print(\"Number is :\", i) \n",
    "    \n",
    "count = 0\n",
    "while count <= 5:\n",
    "    if count == 3:\n",
    "        print(\"Break\")\n",
    "        break\n",
    "    else:\n",
    "        print(\"Number :\", count)\n",
    "    count += 1    "
   ]
  },
  {
   "cell_type": "code",
   "execution_count": 21,
   "id": "2048d292-39bd-4f78-b247-88e598b40065",
   "metadata": {},
   "outputs": [
    {
     "name": "stdout",
     "output_type": "stream",
     "text": [
      "This won't execute\n"
     ]
    }
   ],
   "source": [
    "num=-5\n",
    "if num>0:\n",
    "    pass\n",
    "else:\n",
    "    print(\"This won't execute\")"
   ]
  },
  {
   "cell_type": "code",
   "execution_count": 26,
   "id": "9e8cc7b1-21af-4039-8647-967904a698a1",
   "metadata": {},
   "outputs": [
    {
     "name": "stdin",
     "output_type": "stream",
     "text": [
      "Enter marks: 56\n"
     ]
    },
    {
     "name": "stdout",
     "output_type": "stream",
     "text": [
      "C\n"
     ]
    }
   ],
   "source": [
    "marks=int(input(\"Enter marks:\"))\n",
    "if marks>0:\n",
    "    if marks >=90 and marks<=100:\n",
    "        print(\"A\")\n",
    "    elif  marks >=70 and marks<=89:\n",
    "        print(\"B\")\n",
    "    elif marks >=50 and marks<=69:\n",
    "        print(\"C\")\n",
    "    elif marks<50:\n",
    "        print(\"Fail\")\n",
    "        \n"
   ]
  },
  {
   "cell_type": "code",
   "execution_count": 29,
   "id": "37a078f6-f1fe-4e52-a9a0-9bd8ef722637",
   "metadata": {},
   "outputs": [
    {
     "name": "stdin",
     "output_type": "stream",
     "text": [
      "Enter num: 6\n"
     ]
    },
    {
     "name": "stdout",
     "output_type": "stream",
     "text": [
      "even\n"
     ]
    }
   ],
   "source": [
    "num=int(input(\"Enter num:\"))\n",
    "if num>0:\n",
    "    if num%2==0:\n",
    "        print('even')\n",
    "    else:\n",
    "        print('odd')\n",
    "elif num==0:\n",
    "    print('zero')\n",
    "elif num<0:\n",
    "    if num<-10:\n",
    "        print(\"num is less than -10\")"
   ]
  },
  {
   "cell_type": "code",
   "execution_count": 30,
   "id": "7aea52d4-8570-4307-8089-c9f171244d2d",
   "metadata": {},
   "outputs": [
    {
     "name": "stdin",
     "output_type": "stream",
     "text": [
      "total mrp 700\n"
     ]
    },
    {
     "name": "stdout",
     "output_type": "stream",
     "text": [
      "Total discount 20\n",
      "You saved 140.0\n",
      "final amount 560.0\n"
     ]
    }
   ],
   "source": [
    "mrp=int(input('total mrp'))\n",
    "discount=0\n",
    "if mrp>500:\n",
    "    discount=20\n",
    "elif 200>=mrp<500:\n",
    "    discount=10\n",
    "discount_price=mrp*discount/100\n",
    "final_amount=mrp-discount_price\n",
    "print('Total discount',discount)\n",
    "print('You saved',discount_price)\n",
    "print('final amount',final_amount)\n",
    "        "
   ]
  },
  {
   "cell_type": "code",
   "execution_count": 31,
   "id": "be975779-53fd-4c80-b894-f9d8d326de10",
   "metadata": {},
   "outputs": [
    {
     "name": "stdout",
     "output_type": "stream",
     "text": [
      "Count: 1\n",
      "Count: 2\n",
      "Count: 3\n",
      "Count: 4\n",
      "Count: 5\n"
     ]
    }
   ],
   "source": [
    "count=1\n",
    "while count<=5:\n",
    "    print(\"Count:\",count)\n",
    "    count+=1"
   ]
  },
  {
   "cell_type": "code",
   "execution_count": 32,
   "id": "c67a14d8-3f8d-4ed7-b1a8-eaeade9a5bc1",
   "metadata": {},
   "outputs": [
    {
     "name": "stdout",
     "output_type": "stream",
     "text": [
      "1\n",
      "2\n",
      "3\n",
      "4\n",
      "5\n"
     ]
    }
   ],
   "source": [
    "for num in range(1,6):\n",
    "    print(num)\n",
    "    "
   ]
  },
  {
   "cell_type": "code",
   "execution_count": 33,
   "id": "66a71ed1-a063-4d2d-baec-164f3a8b7c12",
   "metadata": {},
   "outputs": [
    {
     "name": "stdout",
     "output_type": "stream",
     "text": [
      "Count is  0\n",
      "Count is  1\n",
      "Count is  2\n",
      "Breaking at count 3\n"
     ]
    }
   ],
   "source": [
    "count=0\n",
    "while count<5:\n",
    "    if count==3:\n",
    "        print(\"Breaking at count\",count)\n",
    "        break\n",
    "    print(\"Count is \",count)\n",
    "    count+=1"
   ]
  },
  {
   "cell_type": "code",
   "execution_count": 34,
   "id": "bda06bc9-81da-48ce-824c-cc0c7e8dc642",
   "metadata": {},
   "outputs": [
    {
     "name": "stdout",
     "output_type": "stream",
     "text": [
      "1\n",
      "2\n",
      "3\n",
      "4\n",
      "breaking at number 3\n"
     ]
    }
   ],
   "source": [
    "for num in range(1,11):\n",
    "    if num==5:\n",
    "        print('breaking at number',count)\n",
    "        break\n",
    "    print(num)"
   ]
  },
  {
   "cell_type": "code",
   "execution_count": 7,
   "id": "eb08ee96-4677-4e49-99a1-dca0926dbf09",
   "metadata": {},
   "outputs": [
    {
     "name": "stdin",
     "output_type": "stream",
     "text": [
      "Enter First Number 10\n",
      "Enter Second Number 20\n"
     ]
    },
    {
     "name": "stdout",
     "output_type": "stream",
     "text": [
      "Sum is : 90\n"
     ]
    }
   ],
   "source": [
    "\n",
    "# Task 1\n",
    "\n",
    "num1 = int(input(\"Enter First Number\"))\n",
    "num2 = int(input(\"Enter Second Number\"))\n",
    "sumN = 0\n",
    "for i in range (num1, num2 + 1):\n",
    "    if i % 2 == 0:\n",
    "        sumN += i\n",
    "\n",
    "print(\"Sum is :\", sumN);"
   ]
  },
  {
   "cell_type": "code",
   "execution_count": 8,
   "id": "e185f001-f938-4d6a-a463-b03cd50d21e5",
   "metadata": {},
   "outputs": [
    {
     "name": "stdin",
     "output_type": "stream",
     "text": [
      "Enter number: 5\n"
     ]
    },
    {
     "name": "stdout",
     "output_type": "stream",
     "text": [
      "1 \n",
      "1 2 \n",
      "1 2 3 \n",
      "1 2 3 4 \n",
      "1 2 3 4 5 \n"
     ]
    }
   ],
   "source": [
    "# Task 2\n",
    "\n",
    "n = int(input(\"Enter number:\"))\n",
    "\n",
    "for i in range(1, n + 1 ):\n",
    "        for j in range(1, i + 1):\n",
    "            print(j, end = \" \")\n",
    "        print()\n"
   ]
  },
  {
   "cell_type": "code",
   "execution_count": 35,
   "id": "05aca564-75cd-4156-a586-f13ab0f5d09d",
   "metadata": {},
   "outputs": [
    {
     "name": "stdout",
     "output_type": "stream",
     "text": [
      "Hello\n"
     ]
    }
   ],
   "source": [
    "def hello():\n",
    "    print(\"Hello\")\n",
    "hello()"
   ]
  },
  {
   "cell_type": "code",
   "execution_count": 36,
   "id": "3ceeb163-6cd3-4a9e-96cd-ef2690c61c58",
   "metadata": {},
   "outputs": [
    {
     "name": "stdout",
     "output_type": "stream",
     "text": [
      "hi hema\n"
     ]
    }
   ],
   "source": [
    "def greet(name):\n",
    "    print(\"hi\",name)\n",
    "greet(\"hema\")"
   ]
  },
  {
   "cell_type": "code",
   "execution_count": 10,
   "id": "8411400a-8337-42ec-8e73-fc11aba67a23",
   "metadata": {},
   "outputs": [
    {
     "name": "stdout",
     "output_type": "stream",
     "text": [
      "Hello, hema!\n",
      "Hello, hemashri!\n"
     ]
    }
   ],
   "source": [
    "# Default Parameter\n",
    "\n",
    "def greet(name = 'hema'):\n",
    "    print(f\"Hello, {name}!\")\n",
    "\n",
    "greet()\n",
    "greet(\"hemashri\")"
   ]
  },
  {
   "cell_type": "code",
   "execution_count": 37,
   "id": "36c237bc-ccbe-43b7-a8ee-78381cc570e5",
   "metadata": {},
   "outputs": [
    {
     "name": "stdout",
     "output_type": "stream",
     "text": [
      "11\n"
     ]
    }
   ],
   "source": [
    "def add_numbers(a,b):\n",
    "    result=a+b\n",
    "    print(result)\n",
    "add_numbers(5,6)"
   ]
  },
  {
   "cell_type": "code",
   "execution_count": 40,
   "id": "bc6989a4-e148-4019-9147-a2fdff694aff",
   "metadata": {},
   "outputs": [
    {
     "name": "stdout",
     "output_type": "stream",
     "text": [
      "Hello Alice\n",
      "Hello Guest\n"
     ]
    }
   ],
   "source": [
    "def greet(name=\"Guest\"):\n",
    "    print(\"Hello\",name)\n",
    "greet(\"Alice\")\n",
    "greet()\n"
   ]
  },
  {
   "cell_type": "code",
   "execution_count": 41,
   "id": "95264b84-1800-41f8-910a-c0f560d525b6",
   "metadata": {},
   "outputs": [
    {
     "name": "stdout",
     "output_type": "stream",
     "text": [
      "bob is 25 years and lives in new york\n"
     ]
    }
   ],
   "source": [
    "def describe_person(name,age,city):\n",
    "    print(f\"{name} is {age} years and lives in {city}\")\n",
    "describe_person(age=25,city=\"new york\",name=\"bob\")"
   ]
  },
  {
   "cell_type": "code",
   "execution_count": 42,
   "id": "8195a260-d502-4b09-beab-dd59532818de",
   "metadata": {},
   "outputs": [
    {
     "name": "stdout",
     "output_type": "stream",
     "text": [
      "120\n"
     ]
    }
   ],
   "source": [
    "def factorial(n):\n",
    "    if n==1:\n",
    "        return 1\n",
    "    else:\n",
    "        return n*factorial(n-1)\n",
    "result=factorial(5)\n",
    "print(result)"
   ]
  },
  {
   "cell_type": "code",
   "execution_count": 48,
   "id": "7453126b-eab6-4d46-8aa0-72816377a388",
   "metadata": {},
   "outputs": [
    {
     "name": "stdin",
     "output_type": "stream",
     "text": [
      "enter email admin@gmail.com\n",
      "Enter password admin@123\n"
     ]
    },
    {
     "name": "stdout",
     "output_type": "stream",
     "text": [
      "Login success\n"
     ]
    }
   ],
   "source": [
    "#task 3\n",
    "def login(email,password):\n",
    "    if email=='admin@gmail.com' and password=='admin@123':\n",
    "        print(\"Login success\")\n",
    "    else:\n",
    "        print(\"Unsuccess\")\n",
    "email=input(\"enter email\")\n",
    "password=input(\"Enter password\")\n",
    "login(email,password)"
   ]
  },
  {
   "cell_type": "code",
   "execution_count": 7,
   "id": "133a3d9b-3cf9-475c-8c35-11dfc4324c0d",
   "metadata": {},
   "outputs": [
    {
     "name": "stdout",
     "output_type": "stream",
     "text": [
      "[10, 20, 30, 40, 50]\n",
      "40\n",
      "[10, 20, 30, 40, 50, 60]\n",
      "[10, 20, 25, 30, 40, 50, 60]\n",
      "60 removed\n",
      "6\n",
      "Minimum value: 10\n",
      "Maxmum value: 50\n",
      "Sum value: 175\n",
      "[10, 20, 30, 40, 50]\n",
      "True\n",
      "[20, 30]\n",
      "[10, 20, 30, 40, 50, 1, 2, 3, 4, 5]\n",
      "[10, 20, 30, 40, 35, 1, 2, 3, 4, 5]\n",
      "[10, 20, 30, 40, 1, 2, 3, 4, 5]\n",
      "[10, 30, 40, 1, 2, 3, 4, 5]\n"
     ]
    }
   ],
   "source": [
    "mylist=[10,20,30,40,50]\n",
    "print(mylist)\n",
    "print(mylist[3])\n",
    "mylist.append(60)\n",
    "print(mylist)\n",
    "mylist.insert(2,25)\n",
    "print(mylist)\n",
    "data=mylist.pop()\n",
    "print(data,\"removed\")\n",
    "print(len(mylist))\n",
    "print(\"Minimum value:\",min(mylist))\n",
    "print(\"Maxmum value:\",max(mylist))\n",
    "print(\"Sum value:\",sum(mylist))\n",
    "mylist.remove(25)\n",
    "print(mylist)\n",
    "print(20 in mylist)\n",
    "print(mylist[1:3])\n",
    "mylist.extend([1,2,3,4,5])\n",
    "print(mylist)\n",
    "mylist[4]=35\n",
    "print(mylist)\n",
    "mylist.pop(4)\n",
    "print(mylist)\n",
    "del mylist[1]\n",
    "print(mylist)\n",
    "mylist.clear()\n",
    "print(mylist)"
   ]
  },
  {
   "cell_type": "code",
   "execution_count": 9,
   "id": "1e168ce1-35ec-4670-9153-6af9c60382a7",
   "metadata": {},
   "outputs": [
    {
     "name": "stdout",
     "output_type": "stream",
     "text": [
      "1\n",
      "2\n",
      "3\n",
      "4\n",
      "5\n",
      "6\n",
      "7\n",
      "8\n",
      "9\n",
      "2\n",
      "2\n",
      "2\n",
      "2\n",
      "2\n",
      "2\n",
      "2\n",
      "2\n",
      "2\n"
     ]
    }
   ],
   "source": [
    "data=[1,2,3,4,5,6,7,8,9]\n",
    "for num in data:\n",
    "    print(num)\n",
    "i=0\n",
    "while i<len(data):\n",
    "    print(data[1])\n",
    "    i+=1"
   ]
  },
  {
   "cell_type": "code",
   "execution_count": 10,
   "id": "99ea65cf-b6ca-45c1-a5e6-7fa0144096db",
   "metadata": {},
   "outputs": [
    {
     "name": "stdout",
     "output_type": "stream",
     "text": [
      "[9, 8, 7, 6, 5, 4, 3, 2, 1]\n"
     ]
    }
   ],
   "source": [
    "data.sort(reverse=True)\n",
    "print(data)"
   ]
  },
  {
   "cell_type": "code",
   "execution_count": 11,
   "id": "1ec9a9cb-861f-4239-a489-f7eae11a02a7",
   "metadata": {},
   "outputs": [
    {
     "name": "stdout",
     "output_type": "stream",
     "text": [
      "[1, 2, 3, 4, 5, 6, 7, 8, 9]\n"
     ]
    }
   ],
   "source": [
    "data.reverse()\n",
    "print(data)"
   ]
  },
  {
   "cell_type": "code",
   "execution_count": 12,
   "id": "a3e11174-59a3-4d19-9c42-9077f656ff5e",
   "metadata": {},
   "outputs": [
    {
     "name": "stdout",
     "output_type": "stream",
     "text": [
      "[1, 2, 3, 4, 5, 6, 7, 8, 9]\n",
      "[1, 4, 9, 16, 25]\n"
     ]
    }
   ],
   "source": [
    "copy_numbers=data.copy()\n",
    "print(copy_numbers)\n",
    "squares=[x**2 for x in range(1,6)]\n",
    "print(squares)"
   ]
  },
  {
   "cell_type": "code",
   "execution_count": 14,
   "id": "62127b3e-ebc3-4ff8-a8a8-0cc5929da806",
   "metadata": {},
   "outputs": [
    {
     "name": "stdin",
     "output_type": "stream",
     "text": [
      "Enter a command (add, remove, show, exit):  exit\n"
     ]
    },
    {
     "name": "stdout",
     "output_type": "stream",
     "text": [
      "Exiting To-Do List application.\n"
     ]
    }
   ],
   "source": [
    "todos = []\n",
    "\n",
    "def add_todo():\n",
    "    task = input(\"Enter task to add: \")\n",
    "    todos.append(task)\n",
    "    print(f'Task \"{task}\" added.')\n",
    "\n",
    "def remove_todo():\n",
    "    task = input(\"Enter task to remove: \")\n",
    "    todos.remove(task)\n",
    "    print(f'Task \"{task}\" removed.')\n",
    "    \n",
    "def show_todos():\n",
    "    print(\"To-Do List:\")\n",
    "    for task in todos:\n",
    "        print(f\"- {task}\")\n",
    "\n",
    "while True:\n",
    "    command = input(\"Enter a command (add, remove, show, exit): \")\n",
    "    \n",
    "    if command == \"add\":\n",
    "        add_todo()\n",
    "    elif command == \"remove\":\n",
    "        remove_todo()\n",
    "    elif command == \"show\":\n",
    "        show_todos()\n",
    "    elif command == \"exit\":\n",
    "        print(\"Exiting To-Do List application.\")\n",
    "        break"
   ]
  },
  {
   "cell_type": "code",
   "execution_count": 15,
   "id": "b0deb73f-5d7b-4224-92ee-b31d074d9a70",
   "metadata": {},
   "outputs": [
    {
     "name": "stdout",
     "output_type": "stream",
     "text": [
      "1 \n",
      "1 2 \n",
      "1 2 3 \n"
     ]
    }
   ],
   "source": [
    " def print_pattern(lines):\n",
    "    for i in range(1, lines + 1):\n",
    "        for j in range(1, i + 1):\n",
    "            print(j, end=' ')\n",
    "        print()\n",
    "\n",
    "\n",
    "number_of_lines = 3\n",
    "print_pattern(number_of_lines)\n"
   ]
  },
  {
   "cell_type": "code",
   "execution_count": 16,
   "id": "fdc94a5a-4535-44a5-82dc-942a124893b5",
   "metadata": {},
   "outputs": [
    {
     "name": "stdout",
     "output_type": "stream",
     "text": [
      "{1, 2, 3, 4, 5, 6, 7, 8}\n",
      "{1, 2, 3, 4, 5, 6, 7, 8}\n",
      "{4, 5}\n",
      "{4, 5}\n"
     ]
    }
   ],
   "source": [
    "A={1,2,3,4,5}\n",
    "B={4,5,6,7,8}\n",
    "print(A|B)\n",
    "print(A.union(B))\n",
    "print(A&B)\n",
    "print(A.intersection(B))"
   ]
  },
  {
   "cell_type": "code",
   "execution_count": 20,
   "id": "b3a940eb-0d14-452f-b16d-3906f5c378c5",
   "metadata": {},
   "outputs": [
    {
     "name": "stdout",
     "output_type": "stream",
     "text": [
      "Amit: 75000\n",
      "Bina: 80000\n",
      "David: 85000\n"
     ]
    }
   ],
   "source": [
    "\n",
    "employees = {\n",
    "    \"Amit\": 70000,\n",
    "    \"Bina\": 80000,\n",
    "    \"yash\": 90000\n",
    "}\n",
    "\n",
    "\n",
    "employees[\"David\"] = 85000\n",
    "\n",
    "\n",
    "employees[\"Amit\"] = 75000\n",
    "\n",
    "\n",
    "del employees[\"yash\"]\n",
    "for name, salary in employees.items():\n",
    "    print(f'{name}: {salary}')\n",
    "\n"
   ]
  }
 ],
 "metadata": {
  "kernelspec": {
   "display_name": "Python 3 (ipykernel)",
   "language": "python",
   "name": "python3"
  },
  "language_info": {
   "codemirror_mode": {
    "name": "ipython",
    "version": 3
   },
   "file_extension": ".py",
   "mimetype": "text/x-python",
   "name": "python",
   "nbconvert_exporter": "python",
   "pygments_lexer": "ipython3",
   "version": "3.13.2"
  }
 },
 "nbformat": 4,
 "nbformat_minor": 5
}
