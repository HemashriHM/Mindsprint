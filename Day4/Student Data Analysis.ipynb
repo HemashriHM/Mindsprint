{
 "cells": [
  {
   "cell_type": "code",
   "execution_count": 2,
   "id": "dcc7bca9-7ce0-4cff-a382-1a64af2083ee",
   "metadata": {},
   "outputs": [
    {
     "name": "stdout",
     "output_type": "stream",
     "text": [
      "   Student_ID             Name  Math  Science  English  Total  \\\n",
      "0           1   Cornell Ousley    58       46       54    110   \n",
      "1           2    Clayton Jonas    93       79       77    120   \n",
      "2           3  Estevan Donovin    28       27       68     56   \n",
      "3           4    Patric Ewbank    81       74       19    106   \n",
      "4           5   Silvie Haylock     1       13       52    136   \n",
      "\n",
      "              Grade  \n",
      "0  Open-architected  \n",
      "1          matrices  \n",
      "2     collaboration  \n",
      "3       Right-sized  \n",
      "4          strategy  \n"
     ]
    }
   ],
   "source": [
    "import pandas as pd\n",
    "df = pd.read_csv('marks_data.csv')\n",
    "print(df.head())"
   ]
  },
  {
   "cell_type": "code",
   "execution_count": 3,
   "id": "2503278e-b9e7-40e8-bf32-6507c442eb73",
   "metadata": {},
   "outputs": [
    {
     "data": {
      "text/html": [
       "<div>\n",
       "<style scoped>\n",
       "    .dataframe tbody tr th:only-of-type {\n",
       "        vertical-align: middle;\n",
       "    }\n",
       "\n",
       "    .dataframe tbody tr th {\n",
       "        vertical-align: top;\n",
       "    }\n",
       "\n",
       "    .dataframe thead th {\n",
       "        text-align: right;\n",
       "    }\n",
       "</style>\n",
       "<table border=\"1\" class=\"dataframe\">\n",
       "  <thead>\n",
       "    <tr style=\"text-align: right;\">\n",
       "      <th></th>\n",
       "      <th>Student_ID</th>\n",
       "      <th>Name</th>\n",
       "      <th>Math</th>\n",
       "      <th>Science</th>\n",
       "      <th>English</th>\n",
       "      <th>Total</th>\n",
       "      <th>Grade</th>\n",
       "    </tr>\n",
       "  </thead>\n",
       "  <tbody>\n",
       "    <tr>\n",
       "      <th>0</th>\n",
       "      <td>False</td>\n",
       "      <td>False</td>\n",
       "      <td>False</td>\n",
       "      <td>False</td>\n",
       "      <td>False</td>\n",
       "      <td>False</td>\n",
       "      <td>False</td>\n",
       "    </tr>\n",
       "    <tr>\n",
       "      <th>1</th>\n",
       "      <td>False</td>\n",
       "      <td>False</td>\n",
       "      <td>False</td>\n",
       "      <td>False</td>\n",
       "      <td>False</td>\n",
       "      <td>False</td>\n",
       "      <td>False</td>\n",
       "    </tr>\n",
       "    <tr>\n",
       "      <th>2</th>\n",
       "      <td>False</td>\n",
       "      <td>False</td>\n",
       "      <td>False</td>\n",
       "      <td>False</td>\n",
       "      <td>False</td>\n",
       "      <td>False</td>\n",
       "      <td>False</td>\n",
       "    </tr>\n",
       "    <tr>\n",
       "      <th>3</th>\n",
       "      <td>False</td>\n",
       "      <td>False</td>\n",
       "      <td>False</td>\n",
       "      <td>False</td>\n",
       "      <td>False</td>\n",
       "      <td>False</td>\n",
       "      <td>False</td>\n",
       "    </tr>\n",
       "    <tr>\n",
       "      <th>4</th>\n",
       "      <td>False</td>\n",
       "      <td>False</td>\n",
       "      <td>False</td>\n",
       "      <td>False</td>\n",
       "      <td>False</td>\n",
       "      <td>False</td>\n",
       "      <td>False</td>\n",
       "    </tr>\n",
       "    <tr>\n",
       "      <th>...</th>\n",
       "      <td>...</td>\n",
       "      <td>...</td>\n",
       "      <td>...</td>\n",
       "      <td>...</td>\n",
       "      <td>...</td>\n",
       "      <td>...</td>\n",
       "      <td>...</td>\n",
       "    </tr>\n",
       "    <tr>\n",
       "      <th>995</th>\n",
       "      <td>False</td>\n",
       "      <td>False</td>\n",
       "      <td>False</td>\n",
       "      <td>False</td>\n",
       "      <td>False</td>\n",
       "      <td>False</td>\n",
       "      <td>False</td>\n",
       "    </tr>\n",
       "    <tr>\n",
       "      <th>996</th>\n",
       "      <td>False</td>\n",
       "      <td>False</td>\n",
       "      <td>False</td>\n",
       "      <td>False</td>\n",
       "      <td>False</td>\n",
       "      <td>False</td>\n",
       "      <td>False</td>\n",
       "    </tr>\n",
       "    <tr>\n",
       "      <th>997</th>\n",
       "      <td>False</td>\n",
       "      <td>False</td>\n",
       "      <td>False</td>\n",
       "      <td>False</td>\n",
       "      <td>False</td>\n",
       "      <td>False</td>\n",
       "      <td>False</td>\n",
       "    </tr>\n",
       "    <tr>\n",
       "      <th>998</th>\n",
       "      <td>False</td>\n",
       "      <td>False</td>\n",
       "      <td>False</td>\n",
       "      <td>False</td>\n",
       "      <td>False</td>\n",
       "      <td>False</td>\n",
       "      <td>False</td>\n",
       "    </tr>\n",
       "    <tr>\n",
       "      <th>999</th>\n",
       "      <td>False</td>\n",
       "      <td>False</td>\n",
       "      <td>False</td>\n",
       "      <td>False</td>\n",
       "      <td>False</td>\n",
       "      <td>False</td>\n",
       "      <td>False</td>\n",
       "    </tr>\n",
       "  </tbody>\n",
       "</table>\n",
       "<p>1000 rows × 7 columns</p>\n",
       "</div>"
      ],
      "text/plain": [
       "     Student_ID   Name   Math  Science  English  Total  Grade\n",
       "0         False  False  False    False    False  False  False\n",
       "1         False  False  False    False    False  False  False\n",
       "2         False  False  False    False    False  False  False\n",
       "3         False  False  False    False    False  False  False\n",
       "4         False  False  False    False    False  False  False\n",
       "..          ...    ...    ...      ...      ...    ...    ...\n",
       "995       False  False  False    False    False  False  False\n",
       "996       False  False  False    False    False  False  False\n",
       "997       False  False  False    False    False  False  False\n",
       "998       False  False  False    False    False  False  False\n",
       "999       False  False  False    False    False  False  False\n",
       "\n",
       "[1000 rows x 7 columns]"
      ]
     },
     "execution_count": 3,
     "metadata": {},
     "output_type": "execute_result"
    }
   ],
   "source": [
    "df.isna() # Checking NA values"
   ]
  },
  {
   "cell_type": "code",
   "execution_count": 4,
   "id": "4a9c3793-36d0-413e-b6e5-4565ce059801",
   "metadata": {},
   "outputs": [
    {
     "data": {
      "text/html": [
       "<div>\n",
       "<style scoped>\n",
       "    .dataframe tbody tr th:only-of-type {\n",
       "        vertical-align: middle;\n",
       "    }\n",
       "\n",
       "    .dataframe tbody tr th {\n",
       "        vertical-align: top;\n",
       "    }\n",
       "\n",
       "    .dataframe thead th {\n",
       "        text-align: right;\n",
       "    }\n",
       "</style>\n",
       "<table border=\"1\" class=\"dataframe\">\n",
       "  <thead>\n",
       "    <tr style=\"text-align: right;\">\n",
       "      <th></th>\n",
       "      <th>Student_ID</th>\n",
       "      <th>Name</th>\n",
       "      <th>Math</th>\n",
       "      <th>Science</th>\n",
       "      <th>English</th>\n",
       "      <th>Total</th>\n",
       "      <th>Grade</th>\n",
       "    </tr>\n",
       "  </thead>\n",
       "  <tbody>\n",
       "    <tr>\n",
       "      <th>0</th>\n",
       "      <td>False</td>\n",
       "      <td>False</td>\n",
       "      <td>False</td>\n",
       "      <td>False</td>\n",
       "      <td>False</td>\n",
       "      <td>False</td>\n",
       "      <td>False</td>\n",
       "    </tr>\n",
       "    <tr>\n",
       "      <th>1</th>\n",
       "      <td>False</td>\n",
       "      <td>False</td>\n",
       "      <td>False</td>\n",
       "      <td>False</td>\n",
       "      <td>False</td>\n",
       "      <td>False</td>\n",
       "      <td>False</td>\n",
       "    </tr>\n",
       "    <tr>\n",
       "      <th>2</th>\n",
       "      <td>False</td>\n",
       "      <td>False</td>\n",
       "      <td>False</td>\n",
       "      <td>False</td>\n",
       "      <td>False</td>\n",
       "      <td>False</td>\n",
       "      <td>False</td>\n",
       "    </tr>\n",
       "    <tr>\n",
       "      <th>3</th>\n",
       "      <td>False</td>\n",
       "      <td>False</td>\n",
       "      <td>False</td>\n",
       "      <td>False</td>\n",
       "      <td>False</td>\n",
       "      <td>False</td>\n",
       "      <td>False</td>\n",
       "    </tr>\n",
       "    <tr>\n",
       "      <th>4</th>\n",
       "      <td>False</td>\n",
       "      <td>False</td>\n",
       "      <td>False</td>\n",
       "      <td>False</td>\n",
       "      <td>False</td>\n",
       "      <td>False</td>\n",
       "      <td>False</td>\n",
       "    </tr>\n",
       "    <tr>\n",
       "      <th>...</th>\n",
       "      <td>...</td>\n",
       "      <td>...</td>\n",
       "      <td>...</td>\n",
       "      <td>...</td>\n",
       "      <td>...</td>\n",
       "      <td>...</td>\n",
       "      <td>...</td>\n",
       "    </tr>\n",
       "    <tr>\n",
       "      <th>995</th>\n",
       "      <td>False</td>\n",
       "      <td>False</td>\n",
       "      <td>False</td>\n",
       "      <td>False</td>\n",
       "      <td>False</td>\n",
       "      <td>False</td>\n",
       "      <td>False</td>\n",
       "    </tr>\n",
       "    <tr>\n",
       "      <th>996</th>\n",
       "      <td>False</td>\n",
       "      <td>False</td>\n",
       "      <td>False</td>\n",
       "      <td>False</td>\n",
       "      <td>False</td>\n",
       "      <td>False</td>\n",
       "      <td>False</td>\n",
       "    </tr>\n",
       "    <tr>\n",
       "      <th>997</th>\n",
       "      <td>False</td>\n",
       "      <td>False</td>\n",
       "      <td>False</td>\n",
       "      <td>False</td>\n",
       "      <td>False</td>\n",
       "      <td>False</td>\n",
       "      <td>False</td>\n",
       "    </tr>\n",
       "    <tr>\n",
       "      <th>998</th>\n",
       "      <td>False</td>\n",
       "      <td>False</td>\n",
       "      <td>False</td>\n",
       "      <td>False</td>\n",
       "      <td>False</td>\n",
       "      <td>False</td>\n",
       "      <td>False</td>\n",
       "    </tr>\n",
       "    <tr>\n",
       "      <th>999</th>\n",
       "      <td>False</td>\n",
       "      <td>False</td>\n",
       "      <td>False</td>\n",
       "      <td>False</td>\n",
       "      <td>False</td>\n",
       "      <td>False</td>\n",
       "      <td>False</td>\n",
       "    </tr>\n",
       "  </tbody>\n",
       "</table>\n",
       "<p>1000 rows × 7 columns</p>\n",
       "</div>"
      ],
      "text/plain": [
       "     Student_ID   Name   Math  Science  English  Total  Grade\n",
       "0         False  False  False    False    False  False  False\n",
       "1         False  False  False    False    False  False  False\n",
       "2         False  False  False    False    False  False  False\n",
       "3         False  False  False    False    False  False  False\n",
       "4         False  False  False    False    False  False  False\n",
       "..          ...    ...    ...      ...      ...    ...    ...\n",
       "995       False  False  False    False    False  False  False\n",
       "996       False  False  False    False    False  False  False\n",
       "997       False  False  False    False    False  False  False\n",
       "998       False  False  False    False    False  False  False\n",
       "999       False  False  False    False    False  False  False\n",
       "\n",
       "[1000 rows x 7 columns]"
      ]
     },
     "execution_count": 4,
     "metadata": {},
     "output_type": "execute_result"
    }
   ],
   "source": [
    "df.isnull() # Checking null values"
   ]
  },
  {
   "cell_type": "code",
   "execution_count": 5,
   "id": "a15c20a0-0ccd-4458-967d-81d2b93770c7",
   "metadata": {},
   "outputs": [
    {
     "name": "stdout",
     "output_type": "stream",
     "text": [
      "               Name  Math  Science  English  Total\n",
      "0    Cornell Ousley    58       46       54    158\n",
      "1     Clayton Jonas    93       79       77    249\n",
      "2   Estevan Donovin    28       27       68    123\n",
      "3     Patric Ewbank    81       74       19    174\n",
      "4    Silvie Haylock     1       13       52     66\n",
      "5      Alvis Breeds    89       67       47    203\n",
      "6     Orville Pavel    18       17       95    130\n",
      "7  Marty Broomfield    27       41       60    128\n",
      "8      Perle Lisett    28       41        4     73\n",
      "9       Niko Scarce    42       17        1     60\n"
     ]
    }
   ],
   "source": [
    "# calculating total marks by summing each row\n",
    "df['Total'] = df[['Math', 'Science', 'English']].sum(axis=1)\n",
    "print(df[['Name','Math', 'Science', 'English', 'Total']].head(10)) # verifying total"
   ]
  },
  {
   "cell_type": "code",
   "execution_count": 9,
   "id": "6a52c4d0-4e97-42fb-aced-b0f1ed2fe190",
   "metadata": {},
   "outputs": [
    {
     "data": {
      "text/plain": [
       "'D'"
      ]
     },
     "execution_count": 9,
     "metadata": {},
     "output_type": "execute_result"
    }
   ],
   "source": [
    "# Function to assign grades\n",
    "def assign_grade(total):\n",
    "    if total >= 250:\n",
    "       return 'A'\n",
    "    elif total >= 200:\n",
    "        return 'B'\n",
    "    elif total >= 150:\n",
    "        return 'C'\n",
    "    else:\n",
    "        return 'D'\n",
    "assign_grade(90)"
   ]
  },
  {
   "cell_type": "code",
   "execution_count": 10,
   "id": "633a04d2-05ae-46cc-b90d-ce45b802bfd4",
   "metadata": {},
   "outputs": [
    {
     "data": {
      "text/html": [
       "<div>\n",
       "<style scoped>\n",
       "    .dataframe tbody tr th:only-of-type {\n",
       "        vertical-align: middle;\n",
       "    }\n",
       "\n",
       "    .dataframe tbody tr th {\n",
       "        vertical-align: top;\n",
       "    }\n",
       "\n",
       "    .dataframe thead th {\n",
       "        text-align: right;\n",
       "    }\n",
       "</style>\n",
       "<table border=\"1\" class=\"dataframe\">\n",
       "  <thead>\n",
       "    <tr style=\"text-align: right;\">\n",
       "      <th></th>\n",
       "      <th>Name</th>\n",
       "      <th>Total</th>\n",
       "      <th>Grade</th>\n",
       "    </tr>\n",
       "  </thead>\n",
       "  <tbody>\n",
       "    <tr>\n",
       "      <th>0</th>\n",
       "      <td>Cornell Ousley</td>\n",
       "      <td>158</td>\n",
       "      <td>C</td>\n",
       "    </tr>\n",
       "    <tr>\n",
       "      <th>1</th>\n",
       "      <td>Clayton Jonas</td>\n",
       "      <td>249</td>\n",
       "      <td>B</td>\n",
       "    </tr>\n",
       "    <tr>\n",
       "      <th>2</th>\n",
       "      <td>Estevan Donovin</td>\n",
       "      <td>123</td>\n",
       "      <td>D</td>\n",
       "    </tr>\n",
       "    <tr>\n",
       "      <th>3</th>\n",
       "      <td>Patric Ewbank</td>\n",
       "      <td>174</td>\n",
       "      <td>C</td>\n",
       "    </tr>\n",
       "    <tr>\n",
       "      <th>4</th>\n",
       "      <td>Silvie Haylock</td>\n",
       "      <td>66</td>\n",
       "      <td>D</td>\n",
       "    </tr>\n",
       "    <tr>\n",
       "      <th>...</th>\n",
       "      <td>...</td>\n",
       "      <td>...</td>\n",
       "      <td>...</td>\n",
       "    </tr>\n",
       "    <tr>\n",
       "      <th>995</th>\n",
       "      <td>Maia Angliss</td>\n",
       "      <td>207</td>\n",
       "      <td>B</td>\n",
       "    </tr>\n",
       "    <tr>\n",
       "      <th>996</th>\n",
       "      <td>Rogers Jedrzejczak</td>\n",
       "      <td>232</td>\n",
       "      <td>B</td>\n",
       "    </tr>\n",
       "    <tr>\n",
       "      <th>997</th>\n",
       "      <td>Stern McLewd</td>\n",
       "      <td>140</td>\n",
       "      <td>D</td>\n",
       "    </tr>\n",
       "    <tr>\n",
       "      <th>998</th>\n",
       "      <td>Guillaume Lente</td>\n",
       "      <td>183</td>\n",
       "      <td>C</td>\n",
       "    </tr>\n",
       "    <tr>\n",
       "      <th>999</th>\n",
       "      <td>Tiffy Kliesl</td>\n",
       "      <td>216</td>\n",
       "      <td>B</td>\n",
       "    </tr>\n",
       "  </tbody>\n",
       "</table>\n",
       "<p>1000 rows × 3 columns</p>\n",
       "</div>"
      ],
      "text/plain": [
       "                   Name  Total Grade\n",
       "0        Cornell Ousley    158     C\n",
       "1         Clayton Jonas    249     B\n",
       "2       Estevan Donovin    123     D\n",
       "3         Patric Ewbank    174     C\n",
       "4        Silvie Haylock     66     D\n",
       "..                  ...    ...   ...\n",
       "995        Maia Angliss    207     B\n",
       "996  Rogers Jedrzejczak    232     B\n",
       "997        Stern McLewd    140     D\n",
       "998     Guillaume Lente    183     C\n",
       "999        Tiffy Kliesl    216     B\n",
       "\n",
       "[1000 rows x 3 columns]"
      ]
     },
     "execution_count": 10,
     "metadata": {},
     "output_type": "execute_result"
    }
   ],
   "source": [
    "df['Grade'] = df['Total'].apply(assign_grade) # calling the assign grade function\n",
    "df[['Name','Total', 'Grade']]"
   ]
  },
  {
   "cell_type": "code",
   "execution_count": 11,
   "id": "75cfc37f-f53c-4416-8180-7d187060d893",
   "metadata": {},
   "outputs": [
    {
     "name": "stdout",
     "output_type": "stream",
     "text": [
      "                   Name  Total Grade\n",
      "0        Cornell Ousley    158     C\n",
      "1         Clayton Jonas    249     B\n",
      "2       Estevan Donovin    123     D\n",
      "3         Patric Ewbank    174     C\n",
      "4        Silvie Haylock     66     D\n",
      "..                  ...    ...   ...\n",
      "995        Maia Angliss    207     B\n",
      "996  Rogers Jedrzejczak    232     B\n",
      "997        Stern McLewd    140     D\n",
      "998     Guillaume Lente    183     C\n",
      "999        Tiffy Kliesl    216     B\n",
      "\n",
      "[1000 rows x 3 columns]\n"
     ]
    }
   ],
   "source": [
    "print(df[['Name','Total', 'Grade']]) "
   ]
  },
  {
   "cell_type": "code",
   "execution_count": 12,
   "id": "19837e30-a3e4-4485-91ad-24de49fdfe9d",
   "metadata": {},
   "outputs": [
    {
     "name": "stdout",
     "output_type": "stream",
     "text": [
      "     Student_ID                 Name  Math  Science  English  Total Grade\n",
      "19           20      Gunar Brounsell    90       95       72    257     A\n",
      "76           77        Murial Myrick    88       95       89    272     A\n",
      "110         111            Lucy Bann    84       79       90    253     A\n",
      "159         160    Hobard Parrington    82       83       88    253     A\n",
      "208         209          Arni Royans    70       89       93    252     A\n",
      "228         229           Natty Peat    81       98       91    270     A\n",
      "293         294        Riley Lemmens    80       77       96    253     A\n",
      "379         380  Brennen Riccardelli    91       98       77    266     A\n",
      "431         432      Gaspard Warlock    92       66       97    255     A\n",
      "438         439        Andris Mephan    98       97       65    260     A\n",
      "678         679          Xenos Skyrm    75       99       76    250     A\n",
      "706         707          Mace Fryett    98       63      100    261     A\n",
      "761         762          Carla Bolan    74       86       91    251     A\n",
      "774         775        Elinore Lacky    82      100      100    282     A\n",
      "836         837         Anna Fobidge    97       91       78    266     A\n",
      "874         875       Mallory O'dell    90       96       95    281     A\n",
      "877         878         Martita Eloy    70       98       88    256     A\n"
     ]
    }
   ],
   "source": [
    "# Filteration Demo\n",
    "\n",
    "grade_a_students = df[df['Grade'] == 'A']\n",
    "print(grade_a_students)"
   ]
  },
  {
   "cell_type": "code",
   "execution_count": 13,
   "id": "76e50c8c-5935-40d7-b667-be6c47f1332f",
   "metadata": {},
   "outputs": [
    {
     "name": "stdout",
     "output_type": "stream",
     "text": [
      "No. of students secured grade B:  17\n"
     ]
    }
   ],
   "source": [
    "grade_b_students = df[df['Grade'] == 'B']\n",
    "print('No. of students secured grade B: ',len(grade_a_students))"
   ]
  },
  {
   "cell_type": "code",
   "execution_count": 14,
   "id": "5f977eea-8a59-49e8-935c-c3f8fd0df466",
   "metadata": {},
   "outputs": [
    {
     "name": "stdout",
     "output_type": "stream",
     "text": [
      "Totals no. of students failed:  496\n"
     ]
    }
   ],
   "source": [
    "print('Totals no. of students failed: ', len(df[df['Grade'] == 'D']))"
   ]
  },
  {
   "cell_type": "code",
   "execution_count": 15,
   "id": "fc3e33f8-2637-4e70-974e-12c3efabcf2d",
   "metadata": {},
   "outputs": [
    {
     "name": "stdout",
     "output_type": "stream",
     "text": [
      "100\n"
     ]
    }
   ],
   "source": [
    "math_max = max(df['Math'])\n",
    "print(math_max)"
   ]
  },
  {
   "cell_type": "code",
   "execution_count": 16,
   "id": "7469c240-3aef-4428-bc55-dab5e6964b6a",
   "metadata": {},
   "outputs": [
    {
     "name": "stdout",
     "output_type": "stream",
     "text": [
      "     Student_ID                  Name  Math  Science  English  Total Grade\n",
      "107         108      Darcee Eccleston   100       87       44    231     B\n",
      "195         196        Maurizio Nesey   100       39        7    146     D\n",
      "247         248       Oralla Clouston   100       38       26    164     C\n",
      "375         376       Torrance Proske   100        6       15    121     D\n",
      "436         437          Alika Romain   100       16       77    193     C\n",
      "609         610         Emile Waldren   100       76       62    238     B\n",
      "635         636          Malory Anton   100        6       21    127     D\n",
      "660         661     Dominic Eastridge   100       29       21    150     C\n",
      "682         683  Marguerite Gallaccio   100        4       50    154     C\n",
      "686         687           Reyna Still   100       16       87    203     B\n"
     ]
    }
   ],
   "source": [
    "print(df[df['Math'] == math_max])"
   ]
  },
  {
   "cell_type": "code",
   "execution_count": 17,
   "id": "c5a5c6c8-a1d2-4be1-ba8e-3b369c0733be",
   "metadata": {},
   "outputs": [
    {
     "name": "stdout",
     "output_type": "stream",
     "text": [
      "data saved successfully!\n"
     ]
    }
   ],
   "source": [
    "# Saving the data to CSV\n",
    "df.to_csv(\"new_marks_data.csv\", index = False)\n",
    "print(\"data saved successfully!\")"
   ]
  },
  {
   "cell_type": "code",
   "execution_count": null,
   "id": "7aca04b9-3ec6-4c17-82ce-a776726c637c",
   "metadata": {},
   "outputs": [],
   "source": []
  }
 ],
 "metadata": {
  "kernelspec": {
   "display_name": "Python 3 (ipykernel)",
   "language": "python",
   "name": "python3"
  },
  "language_info": {
   "codemirror_mode": {
    "name": "ipython",
    "version": 3
   },
   "file_extension": ".py",
   "mimetype": "text/x-python",
   "name": "python",
   "nbconvert_exporter": "python",
   "pygments_lexer": "ipython3",
   "version": "3.13.2"
  }
 },
 "nbformat": 4,
 "nbformat_minor": 5
}
