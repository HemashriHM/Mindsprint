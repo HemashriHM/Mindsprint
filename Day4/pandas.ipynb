{
 "cells": [
  {
   "cell_type": "code",
   "execution_count": 1,
   "id": "5442168d-00cf-4031-a279-091b91702656",
   "metadata": {},
   "outputs": [
    {
     "name": "stdout",
     "output_type": "stream",
     "text": [
      "Version 2.2.3\n"
     ]
    }
   ],
   "source": [
    "import pandas as pd\n",
    "print('Version',pd.__version__)"
   ]
  },
  {
   "cell_type": "code",
   "execution_count": 2,
   "id": "57150a10-7ea6-4e79-8aa3-0883e810f66a",
   "metadata": {},
   "outputs": [
    {
     "name": "stdout",
     "output_type": "stream",
     "text": [
      "0     1\n",
      "1     9\n",
      "2    29\n",
      "3    40\n",
      "4    20\n",
      "5    89\n",
      "dtype: int64\n",
      "Element at index 3 40\n"
     ]
    }
   ],
   "source": [
    "list=[1,9,29,40,20,89]\n",
    "myseries=pd.Series(list)\n",
    "print(myseries)\n",
    "print(\"Element at index 3\",myseries[3])"
   ]
  },
  {
   "cell_type": "code",
   "execution_count": 4,
   "id": "a97afbe6-58b1-41a3-8b22-3ab4dd1084cd",
   "metadata": {},
   "outputs": [
    {
     "name": "stdout",
     "output_type": "stream",
     "text": [
      "a    1\n",
      "b    7\n",
      "c    4\n",
      "dtype: int64\n",
      "7\n"
     ]
    }
   ],
   "source": [
    "import pandas as pd\n",
    "a=[1,7,4]\n",
    "myvar=pd.Series(a,index=[\"a\",\"b\",\"c\"])\n",
    "print(myvar)\n",
    "print(myvar[\"b\"])"
   ]
  },
  {
   "cell_type": "code",
   "execution_count": 5,
   "id": "e60ddf5d-3587-4487-beda-9dd44fabd194",
   "metadata": {},
   "outputs": [
    {
     "name": "stdout",
     "output_type": "stream",
     "text": [
      "id                      1\n",
      "name                 Hema\n",
      "email      hema@gmail,com\n",
      "address            mysore\n",
      "salary            9000000\n",
      "dtype: object\n",
      "id 1\n",
      "name Hema\n"
     ]
    }
   ],
   "source": [
    "employee={\n",
    "    \"id\":1,\n",
    "    \"name\":\"Hema\",\n",
    "    \"email\":\"hema@gmail,com\",\n",
    "    \"address\":\"mysore\",\n",
    "    \"salary\":9000000\n",
    "}\n",
    "data=pd.Series(employee)\n",
    "print(data)\n",
    "print(\"id\",data[\"id\"])\n",
    "print(\"name\",data[\"name\"])"
   ]
  },
  {
   "cell_type": "code",
   "execution_count": 3,
   "id": "c620bc34-c351-486d-946e-aed84e395666",
   "metadata": {},
   "outputs": [
    {
     "name": "stdout",
     "output_type": "stream",
     "text": [
      "    name  age     city\n",
      "0  Alice   25  newyork\n",
      "1    bob   89   mysore\n"
     ]
    }
   ],
   "source": [
    "import pandas as pd\n",
    "data=[\n",
    "    [\"Alice\",25,\"newyork\"],\n",
    "    [\"bob\",89,\"mysore\"],\n",
    "]\n",
    "df=pd.DataFrame(data,columns=[\"name\",\"age\",\"city\"])\n",
    "print(df)\n"
   ]
  },
  {
   "cell_type": "code",
   "execution_count": 4,
   "id": "e7904865-bc87-42ce-9543-ab2599de382d",
   "metadata": {},
   "outputs": [
    {
     "name": "stdout",
     "output_type": "stream",
     "text": [
      "     id first_name   last_name                    email   gender  grade\n",
      "0     1      Dukey   Maggorini      dmaggorini0@home.pl     Male    8.5\n",
      "1     2   Arabelle    Brewster  abrewster1@illinois.edu   Female    1.1\n",
      "2     3     Ginger       Abels   gabels2@feedburner.com     Male    1.5\n",
      "3     4    Brittan       Picot          bpicot3@dot.gov   Female    7.7\n",
      "4     5    Malissa      Reavey          mreavey4@go.com   Female    4.5\n",
      "..  ...        ...         ...                      ...      ...    ...\n",
      "95   96     Anselm     Forlong   aforlong2n@tinypic.com     Male    4.7\n",
      "96   97    Winston    McGowran      wmcgowran2o@ftc.gov     Male    4.7\n",
      "97   98       Cale  Antonowicz   cantonowicz2p@cnbc.com     Male    7.8\n",
      "98   99        Del      Zamora       dzamora2q@imdb.com     Male    2.9\n",
      "99  100      Melva     Allcott      mallcott2r@noaa.gov  Agender    9.7\n",
      "\n",
      "[100 rows x 6 columns]\n"
     ]
    }
   ],
   "source": [
    "student_data=pd.read_csv('MOCK_DATA.csv')\n",
    "print(student_data)"
   ]
  },
  {
   "cell_type": "code",
   "execution_count": 8,
   "id": "c9ac754f-c32c-4b0d-87f8-2cc82f1043c4",
   "metadata": {},
   "outputs": [
    {
     "name": "stdout",
     "output_type": "stream",
     "text": [
      "<class 'pandas.core.frame.DataFrame'>\n",
      "RangeIndex: 100 entries, 0 to 99\n",
      "Data columns (total 6 columns):\n",
      " #   Column      Non-Null Count  Dtype  \n",
      "---  ------      --------------  -----  \n",
      " 0   id          100 non-null    int64  \n",
      " 1   first_name  100 non-null    object \n",
      " 2   last_name   100 non-null    object \n",
      " 3   email       100 non-null    object \n",
      " 4   gender      100 non-null    object \n",
      " 5   grade       100 non-null    float64\n",
      "dtypes: float64(1), int64(1), object(4)\n",
      "memory usage: 4.8+ KB\n",
      "None\n"
     ]
    }
   ],
   "source": [
    "print(student_data.info())"
   ]
  },
  {
   "cell_type": "code",
   "execution_count": 9,
   "id": "9a7278ff-a0ff-4f73-ac93-7c386903783f",
   "metadata": {},
   "outputs": [
    {
     "data": {
      "text/html": [
       "<div>\n",
       "<style scoped>\n",
       "    .dataframe tbody tr th:only-of-type {\n",
       "        vertical-align: middle;\n",
       "    }\n",
       "\n",
       "    .dataframe tbody tr th {\n",
       "        vertical-align: top;\n",
       "    }\n",
       "\n",
       "    .dataframe thead th {\n",
       "        text-align: right;\n",
       "    }\n",
       "</style>\n",
       "<table border=\"1\" class=\"dataframe\">\n",
       "  <thead>\n",
       "    <tr style=\"text-align: right;\">\n",
       "      <th></th>\n",
       "      <th>id</th>\n",
       "      <th>grade</th>\n",
       "    </tr>\n",
       "  </thead>\n",
       "  <tbody>\n",
       "    <tr>\n",
       "      <th>count</th>\n",
       "      <td>100.000000</td>\n",
       "      <td>100.00000</td>\n",
       "    </tr>\n",
       "    <tr>\n",
       "      <th>mean</th>\n",
       "      <td>50.500000</td>\n",
       "      <td>5.31600</td>\n",
       "    </tr>\n",
       "    <tr>\n",
       "      <th>std</th>\n",
       "      <td>29.011492</td>\n",
       "      <td>2.50013</td>\n",
       "    </tr>\n",
       "    <tr>\n",
       "      <th>min</th>\n",
       "      <td>1.000000</td>\n",
       "      <td>1.10000</td>\n",
       "    </tr>\n",
       "    <tr>\n",
       "      <th>25%</th>\n",
       "      <td>25.750000</td>\n",
       "      <td>3.30000</td>\n",
       "    </tr>\n",
       "    <tr>\n",
       "      <th>50%</th>\n",
       "      <td>50.500000</td>\n",
       "      <td>5.00000</td>\n",
       "    </tr>\n",
       "    <tr>\n",
       "      <th>75%</th>\n",
       "      <td>75.250000</td>\n",
       "      <td>7.37500</td>\n",
       "    </tr>\n",
       "    <tr>\n",
       "      <th>max</th>\n",
       "      <td>100.000000</td>\n",
       "      <td>9.90000</td>\n",
       "    </tr>\n",
       "  </tbody>\n",
       "</table>\n",
       "</div>"
      ],
      "text/plain": [
       "               id      grade\n",
       "count  100.000000  100.00000\n",
       "mean    50.500000    5.31600\n",
       "std     29.011492    2.50013\n",
       "min      1.000000    1.10000\n",
       "25%     25.750000    3.30000\n",
       "50%     50.500000    5.00000\n",
       "75%     75.250000    7.37500\n",
       "max    100.000000    9.90000"
      ]
     },
     "execution_count": 9,
     "metadata": {},
     "output_type": "execute_result"
    }
   ],
   "source": [
    "student_data.describe()"
   ]
  },
  {
   "cell_type": "code",
   "execution_count": 10,
   "id": "55ac0abc-83a6-4fc8-8505-a8c537ce2525",
   "metadata": {},
   "outputs": [],
   "source": [
    "def assign_grade(total):\n",
    "    if total>=250:\n",
    "        return 'A'\n",
    "    elif total>=200:\n",
    "        return 'B'\n",
    "    elif total>=150:\n",
    "        return 'C'\n",
    "    else:\n",
    "        return 'D'\n",
    "    \n"
   ]
  },
  {
   "cell_type": "code",
   "execution_count": null,
   "id": "41a4a30e-b0ca-441c-97be-6833f6de42c9",
   "metadata": {},
   "outputs": [],
   "source": [
    "print("
   ]
  }
 ],
 "metadata": {
  "kernelspec": {
   "display_name": "Python 3 (ipykernel)",
   "language": "python",
   "name": "python3"
  },
  "language_info": {
   "codemirror_mode": {
    "name": "ipython",
    "version": 3
   },
   "file_extension": ".py",
   "mimetype": "text/x-python",
   "name": "python",
   "nbconvert_exporter": "python",
   "pygments_lexer": "ipython3",
   "version": "3.13.2"
  }
 },
 "nbformat": 4,
 "nbformat_minor": 5
}
